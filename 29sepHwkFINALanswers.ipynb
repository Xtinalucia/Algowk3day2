{
 "cells": [
  {
   "cell_type": "code",
   "execution_count": 1,
   "id": "be0a2437",
   "metadata": {},
   "outputs": [
    {
     "name": "stdout",
     "output_type": "stream",
     "text": [
      "result ['.', 'sentence', 'a', 'is', 'this']\n"
     ]
    }
   ],
   "source": [
    "words = ['this', 'is', 'a', 'sentence', '.'] #move from outward inward\n",
    "#left i= 0, right j=4  i<j\n",
    "#     i =1        j =3\n",
    "#     i = 2        j= 2 #this is where it stops i = j\n",
    "        \n",
    "def doit(words):\n",
    "    i = 0          #Start from the ends\n",
    "    j = 4          \n",
    "    while i < j :  #swap places by moving the larger index left\n",
    "        words[i], words[j] =  words[j], words[i]\n",
    "        i +=1      #move to next set of indicies\n",
    "        j -=1\n",
    "        \n",
    "\n",
    "doit(words)        #call function and view results\n",
    "\n",
    "print(\"result\", words)\n",
    "        "
   ]
  },
  {
   "cell_type": "code",
   "execution_count": 2,
   "id": "4ab47d22",
   "metadata": {},
   "outputs": [
    {
     "name": "stdout",
     "output_type": "stream",
     "text": [
      "{'In': 1, 'computing,': 1, 'a': 4, 'hash': 3, 'map': 2, 'is': 1, 'data': 2, 'structure': 2, 'which': 2, 'implements': 1, 'an': 3, 'associative': 1, 'array': 2, 'abstract': 1, 'type,': 1, 'that': 1, 'can': 2, 'keys': 1, 'to': 2, 'values.': 1, 'A': 1, 'table': 1, 'uses': 1, 'function': 1, 'compute': 1, 'index': 1, 'into': 1, 'of': 1, 'buckets': 1, 'or': 1, 'slots': 1, 'from': 1, 'the': 1, 'desired': 1, 'value': 1, 'be': 1, 'found': 1}\n"
     ]
    }
   ],
   "source": [
    "a_text = 'In computing, a hash map is a data structure which implements an associative array abstract data type, a structure that can map keys to values. A hash table uses a hash function to compute an index into an array of buckets or slots from which the desired value can be found'\n",
    "\n",
    "sep_words = a_text.split()   #split string into words\n",
    "d_words = {}                 #create a dictionary\n",
    "\n",
    "\n",
    "def word_count(things):                   #define the function that takes in an itterable \n",
    "                                                 \n",
    "    for word in things:                   #looping through itterable \n",
    "        \n",
    "        if word not in d_words:           #check if word doesnt exists in dictionary  \n",
    "            d_words[word] = 1             #create a key, assign value to 1\n",
    "            #print(d_words)\n",
    "        else:\n",
    "            d_words[word] += 1            #if word exists raise number(value) by 1\n",
    "       \n",
    "word_count(sep_words)\n",
    "print(d_words)\n"
   ]
  },
  {
   "cell_type": "code",
   "execution_count": 10,
   "id": "8bae57ab",
   "metadata": {},
   "outputs": [
    {
     "data": {
      "text/plain": [
       "2"
      ]
     },
     "execution_count": 10,
     "metadata": {},
     "output_type": "execute_result"
    }
   ],
   "source": [
    "#Comment on the Time Complexity = O(n) worst/0(log(n))best acc. to chart\n",
    "\n",
    "\n",
    "def do_it(lst, target):                # Loop\n",
    "    left = 0                           # the index 0\n",
    "    right = len(lst) - 1               # length -1\n",
    "           \n",
    "    while left <= right:                  #while left side is less than right side\n",
    "        mid = (left + right)//2            #Find the middle of the list\n",
    "        if lst[mid] == target:                #if the middle is the target return the mid/target\n",
    "            return mid\n",
    "        elif target < lst[mid]:               #if the target is less than the mid\n",
    "         \n",
    "            right = mid - 1\n",
    "        else:\n",
    "            left = mid+1\n",
    "        \n",
    "    \n",
    "        #return None  \n",
    "    \n",
    "lst = [1,6,78,85,93,110,190]\n",
    "target = 78\n",
    "do_it([1,6,78,85,93,110,190],78)       "
   ]
  },
  {
   "cell_type": "code",
   "execution_count": null,
   "id": "7be690db",
   "metadata": {},
   "outputs": [],
   "source": []
  }
 ],
 "metadata": {
  "kernelspec": {
   "display_name": "Python 3 (ipykernel)",
   "language": "python",
   "name": "python3"
  },
  "language_info": {
   "codemirror_mode": {
    "name": "ipython",
    "version": 3
   },
   "file_extension": ".py",
   "mimetype": "text/x-python",
   "name": "python",
   "nbconvert_exporter": "python",
   "pygments_lexer": "ipython3",
   "version": "3.9.7"
  }
 },
 "nbformat": 4,
 "nbformat_minor": 5
}
